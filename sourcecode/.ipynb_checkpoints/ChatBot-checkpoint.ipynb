{
 "cells": [
  {
   "cell_type": "code",
   "execution_count": 9,
   "id": "planned-polymer",
   "metadata": {},
   "outputs": [],
   "source": [
    "import numpy as np\n",
    "from tensorflow.keras.models import Sequential\n",
    "from tensorflow.keras.layers import Dense, Dropout , Activation, Flatten , Conv2D, MaxPooling2D\n",
    "from tensorflow.keras.optimizers import SGD\n",
    "import random"
   ]
  },
  {
   "cell_type": "code",
   "execution_count": 14,
   "id": "north-relations",
   "metadata": {},
   "outputs": [
    {
     "name": "stderr",
     "output_type": "stream",
     "text": [
      "[nltk_data] Downloading package wordnet to\n",
      "[nltk_data]     C:\\Users\\Sarva\\AppData\\Roaming\\nltk_data...\n"
     ]
    }
   ],
   "source": [
    "import nltk\n",
    "from nltk.stem import WordNetLemmatizer\n",
    "nltk.download('wordnet')\n",
    "lemmatizer = WordNetLemmatizer()\n",
    "import json\n",
    "import pickle\n",
    "import tensorflow"
   ]
  },
  {
   "cell_type": "code",
   "execution_count": 11,
   "id": "vital-cisco",
   "metadata": {},
   "outputs": [],
   "source": [
    "words=[]\n",
    "labels = []\n",
    "docs = []\n",
    "ignore_list = ['?', '!']"
   ]
  },
  {
   "cell_type": "code",
   "execution_count": 12,
   "id": "searching-shopper",
   "metadata": {},
   "outputs": [],
   "source": [
    "dataset = open('intents.json').read()\n",
    "intents = json.loads(dataset)"
   ]
  },
  {
   "cell_type": "code",
   "execution_count": 13,
   "id": "exciting-velvet",
   "metadata": {},
   "outputs": [],
   "source": [
    "for intent in intents['intents']:\n",
    "    for pattern in intent['patterns']:\n",
    "\n",
    "        #tokenize each word\n",
    "        word_token = nltk.word_tokenize(pattern)\n",
    "        words.extend(word_token)\n",
    "        #add documents in the corpus\n",
    "        docs.append((word_token, intent['tag']))\n",
    "\n",
    "        # add to our labels list\n",
    "        if intent['tag'] not in labels:\n",
    "            labels.append(intent['tag'])"
   ]
  },
  {
   "cell_type": "code",
   "execution_count": 15,
   "id": "opened-darwin",
   "metadata": {},
   "outputs": [],
   "source": [
    "# lemmatize each word, and sort words by removing duplicates:\n",
    "words = [lemmatizer.lemmatize(word.lower()) for word in words if word not in ignore_list]\n",
    "words = sorted(list(set(words)))"
   ]
  },
  {
   "cell_type": "code",
   "execution_count": 16,
   "id": "organized-elevation",
   "metadata": {},
   "outputs": [],
   "source": [
    "# sort labels:\n",
    "labels = sorted(list(set(labels)))"
   ]
  },
  {
   "cell_type": "code",
   "execution_count": 17,
   "id": "neural-mentor",
   "metadata": {},
   "outputs": [],
   "source": [
    "pickle.dump(words,open('words.pkl','wb'))\n",
    "pickle.dump(labels,open('labels.pkl','wb'))"
   ]
  },
  {
   "cell_type": "code",
   "execution_count": 18,
   "id": "defensive-transport",
   "metadata": {},
   "outputs": [],
   "source": [
    "# creating our training data:\n",
    "training_data = []\n",
    "# creating an empty array for our output (with size same as length of labels):\n",
    "output = [0]*len(labels)\n",
    "\n",
    "for doc in docs:\n",
    "    bag_of_words = []\n",
    "    pattern_words = doc[0]\n",
    "    #lemmatize pattern words:\n",
    "    pattern_words = [lemmatizer.lemmatize(word.lower()) for word in pattern_words]\n",
    "    \n",
    "    for w in words:\n",
    "        if w in pattern_words:\n",
    "            bag_of_words.append(1)\n",
    "        else:\n",
    "            bag_of_words.append(0)\n",
    "            \n",
    "    output_row = list(output)\n",
    "    output_row[labels.index(doc[1])] = 1\n",
    "    \n",
    "    training_data.append([bag_of_words,output_row])"
   ]
  },
  {
   "cell_type": "code",
   "execution_count": 25,
   "id": "executed-constitution",
   "metadata": {},
   "outputs": [],
   "source": [
    "import numpy as np\n",
    "import random\n",
    "\n",
    "random.shuffle(training_data)\n",
    "\n",
    "# Separate features and labels\n",
    "X = []\n",
    "y = []\n",
    "\n",
    "for features, label in training_data:\n",
    "    X.append(features)\n",
    "    y.append(label)\n",
    "\n",
    "X = np.array(X, dtype=object)  # or remove dtype=object if all features are same length\n",
    "y = np.array(y)\n"
   ]
  },
  {
   "cell_type": "code",
   "execution_count": 27,
   "id": "domestic-election",
   "metadata": {},
   "outputs": [
    {
     "ename": "TypeError",
     "evalue": "list indices must be integers or slices, not tuple",
     "output_type": "error",
     "traceback": [
      "\u001b[1;31m---------------------------------------------------------------------------\u001b[0m",
      "\u001b[1;31mTypeError\u001b[0m                                 Traceback (most recent call last)",
      "Cell \u001b[1;32mIn[27], line 2\u001b[0m\n\u001b[0;32m      1\u001b[0m \u001b[38;5;66;03m# Now we have to create training and testing list:\u001b[39;00m\n\u001b[1;32m----> 2\u001b[0m x_train \u001b[38;5;241m=\u001b[39m \u001b[38;5;28mlist\u001b[39m(training_data[:,\u001b[38;5;241m0\u001b[39m])\n\u001b[0;32m      3\u001b[0m y_train \u001b[38;5;241m=\u001b[39m \u001b[38;5;28mlist\u001b[39m(training_data[:,\u001b[38;5;241m1\u001b[39m])\n",
      "\u001b[1;31mTypeError\u001b[0m: list indices must be integers or slices, not tuple"
     ]
    }
   ],
   "source": [
    "# Now we have to create training and testing list:\n",
    "x_train = list(training_data[:,0])\n",
    "y_train = list(training_data[:,1])"
   ]
  },
  {
   "cell_type": "code",
   "execution_count": null,
   "id": "narrative-hypothesis",
   "metadata": {},
   "outputs": [],
   "source": [
    "# Creating Model:\n",
    "\n",
    "model = Sequential()\n",
    "model.add(Dense(128, input_shape=(len(x_train[0]),), activation='relu'))\n",
    "model.add(Dropout(0.5))\n",
    "model.add(Dense(64, activation='relu'))\n",
    "model.add(Dropout(0.5))\n",
    "model.add(Dense(len(y_train[0]), activation='softmax'))"
   ]
  },
  {
   "cell_type": "code",
   "execution_count": null,
   "id": "incident-animation",
   "metadata": {},
   "outputs": [],
   "source": [
    "model.summary()"
   ]
  },
  {
   "cell_type": "code",
   "execution_count": null,
   "id": "facial-vacation",
   "metadata": {},
   "outputs": [],
   "source": [
    "sgd_optimizer = SGD(lr=0.01, decay=1e-6, momentum=0.9, nesterov=True)\n",
    "model.compile(loss='categorical_crossentropy', optimizer=sgd_optimizer, metrics=['accuracy'])"
   ]
  },
  {
   "cell_type": "code",
   "execution_count": null,
   "id": "exclusive-allen",
   "metadata": {},
   "outputs": [],
   "source": [
    "# fit the model \n",
    "history = model.fit(np.array(x_train), np.array(y_train), epochs=200, batch_size=5, verbose=1)"
   ]
  },
  {
   "cell_type": "code",
   "execution_count": null,
   "id": "useful-moses",
   "metadata": {},
   "outputs": [],
   "source": [
    "model.save('chatbot_Application_model.h5', history)"
   ]
  }
 ],
 "metadata": {
  "kernelspec": {
   "display_name": "Python 3 (ipykernel)",
   "language": "python",
   "name": "python3"
  },
  "language_info": {
   "codemirror_mode": {
    "name": "ipython",
    "version": 3
   },
   "file_extension": ".py",
   "mimetype": "text/x-python",
   "name": "python",
   "nbconvert_exporter": "python",
   "pygments_lexer": "ipython3",
   "version": "3.11.4"
  }
 },
 "nbformat": 4,
 "nbformat_minor": 5
}
